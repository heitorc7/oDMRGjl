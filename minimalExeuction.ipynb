{
 "cells": [
  {
   "cell_type": "code",
   "execution_count": 2,
   "id": "f68162ad-3335-45df-b35c-01a07543af59",
   "metadata": {},
   "outputs": [],
   "source": [
    "using ITensors, ITensorMPS, Plots, Statistics\n",
    "using oDMRG"
   ]
  },
  {
   "cell_type": "code",
   "execution_count": 3,
   "id": "f01599f3-7b3e-4e3d-a81d-292a7a30695b",
   "metadata": {},
   "outputs": [
    {
     "name": "stdout",
     "output_type": "stream",
     "text": [
      "\n",
      "Constructing Liouvillian for a spin chain of size 10 using 2 dissipators\n",
      "\n",
      "Constructing Liouvillian for a spin chain of size 10 using 2 dissipators\n"
     ]
    },
    {
     "data": {
      "text/plain": [
       "MPS\n",
       "[1] ((dim=1|id=314|\"Link,l=1\"), (dim=4|id=653|\"Site,TwoSpinHalf,n=1\"))\n",
       "[2] ((dim=1|id=314|\"Link,l=1\"), (dim=4|id=682|\"Site,TwoSpinHalf,n=2\"), (dim=1|id=180|\"Link,l=2\"))\n",
       "[3] ((dim=1|id=180|\"Link,l=2\"), (dim=4|id=854|\"Site,TwoSpinHalf,n=3\"), (dim=1|id=700|\"Link,l=3\"))\n",
       "[4] ((dim=1|id=700|\"Link,l=3\"), (dim=4|id=133|\"Site,TwoSpinHalf,n=4\"), (dim=1|id=236|\"Link,l=4\"))\n",
       "[5] ((dim=1|id=236|\"Link,l=4\"), (dim=4|id=79|\"Site,TwoSpinHalf,n=5\"), (dim=1|id=670|\"Link,l=5\"))\n",
       "[6] ((dim=1|id=670|\"Link,l=5\"), (dim=4|id=681|\"Site,TwoSpinHalf,n=6\"), (dim=1|id=596|\"Link,l=6\"))\n",
       "[7] ((dim=1|id=596|\"Link,l=6\"), (dim=4|id=125|\"Site,TwoSpinHalf,n=7\"), (dim=1|id=550|\"Link,l=7\"))\n",
       "[8] ((dim=1|id=550|\"Link,l=7\"), (dim=4|id=637|\"Site,TwoSpinHalf,n=8\"), (dim=1|id=388|\"Link,l=8\"))\n",
       "[9] ((dim=1|id=388|\"Link,l=8\"), (dim=4|id=725|\"Site,TwoSpinHalf,n=9\"), (dim=1|id=230|\"Link,l=9\"))\n",
       "[10] ((dim=1|id=230|\"Link,l=9\"), (dim=4|id=414|\"Site,TwoSpinHalf,n=10\"))\n"
      ]
     },
     "execution_count": 3,
     "metadata": {},
     "output_type": "execute_result"
    }
   ],
   "source": [
    "# Physical parameters: system size and coupling factor gamma\n",
    "L = 10\n",
    "gamma = 0.1\n",
    "\n",
    "# Create sites using customized TwoSpinHalf sites\n",
    "sites = siteinds(\"TwoSpinHalf\", L)\n",
    "\n",
    "# Physical Parameters: Jx, Jy, Jz, dissipators location, dissipators temperature, coupling vector, magnetic field\n",
    "params = (\n",
    "    Jx = 1.0, Jy = 1.0, Jz = 1.0,\n",
    "    dissipatorsVec = [1, L],\n",
    "    dissipatorsTempValues = [1.0, 0.0],\n",
    "    gammaVec = [gamma, gamma],\n",
    "    hVec = zeros(L)\n",
    ")\n",
    "\n",
    "# LdL MPO constructor\n",
    "LdL = LdLXYZConstruct(sites, params...; maxdim=500, cutoff=1e-8)\n",
    "rho = make_ivec(L, sites)"
   ]
  },
  {
   "cell_type": "code",
   "execution_count": 4,
   "id": "0625786d-36e0-4004-bdfe-bfa96b3a9ebd",
   "metadata": {},
   "outputs": [
    {
     "name": "stdout",
     "output_type": "stream",
     "text": [
      "Initializing warm-up routine\n",
      "Difference between energies: 1.7976931348623157e308\n",
      "Difference between energies: -2.9879968508339516e-6\n",
      "Difference between energies: -4.6318155462188315e-6\n",
      "Difference between energies: -4.590038308549538e-6\n",
      "Difference between energies: -3.925991528319628e-6\n",
      "Difference between energies: -3.1188119784530954e-6\n",
      "Difference between energies: -2.368804153718429e-6\n",
      "Difference between energies: -1.746733182983462e-6\n",
      "Difference between energies: -1.2623014526980114e-6\n",
      "Difference between energies: -8.995181168813815e-7\n",
      "Difference between energies: -6.348137162603962e-7\n",
      "Difference between energies: -4.4534165155596384e-7\n",
      "Difference between energies: -3.118430917936621e-7\n",
      "Difference between energies: -2.1815375106370993e-7\n",
      "Difference between energies: -1.5243800177699995e-7\n",
      "Difference between energies: -1.0657868898533707e-7\n",
      "Difference between energies: -7.465909135362381e-8\n",
      "EndedWarmUpAfter 17 sweeps\n"
     ]
    }
   ],
   "source": [
    "cutoff = 1E-10\n",
    "# Warm up routine (many bd=1 dmrg runs)\n",
    "println(\"Initializing warm-up routine\")\n",
    "energyFin = floatmax(Float64)\n",
    "warmUpTag = true\n",
    "convergenceThreshold = 0.0000001 #1E-10\n",
    "warmUpTracker = 0\n",
    "while warmUpTag\n",
    "    global warmUpTracker += 1\n",
    "    energyIni = energyFin;\n",
    "    global energyFin, rho = dmrg(LdL,rho; nsweeps=1, maxdim=1, cutoff=cutoff, outputlevel=0)\n",
    "\n",
    "    println(\"Difference between energies: \", (energyIni-energyFin))\n",
    "\n",
    "    if abs(abs(energyIni)-abs(energyFin)) < convergenceThreshold\n",
    "        global warmUpTag = false\n",
    "        println(\"EndedWarmUpAfter \", warmUpTracker, \" sweeps\")\n",
    "    end\n",
    "end"
   ]
  },
  {
   "cell_type": "code",
   "execution_count": null,
   "id": "80aa9f78-3f97-4823-b23d-c049bec77f6e",
   "metadata": {},
   "outputs": [],
   "source": [
    "Ivec = make_ivec(L, sites)\n",
    "\n",
    "# Now initiating iterative maxDim increase oDMRG\n",
    "finalMaxDim = 500\n",
    "maxDimInc = 2;\n",
    "energyFin = 10000000.0\n",
    "sweepBDChangeThresholdValue = 0.0006 # good values: 0.0005 ~ 0.001\n",
    "finalSweep = 2000; # usually 1000~2000 works for N = 10. Experiment with more for larger sizes\n",
    "maxdim2 = 2;\n",
    "for iniSweep in 1:finalSweep\n",
    "    energyIni = energyFin\n",
    "    global energyFin, rho = dmrg(LdL,rho; nsweeps=1, maxdim=maxdim2, cutoff=cutoff)\n",
    "\n",
    "    # Now we calculate the flux\n",
    "    currents = calculate_spinFlux(Ivec, rho, sites, [1:L;])\n",
    "    if abs((energyIni - energyFin)/energyIni) < sweepBDChangeThresholdValue\n",
    "        global maxdim2 += maxDimInc\n",
    "    end\n",
    "end\n",
    "println(\"Final energy = $energyFin\")"
   ]
  },
  {
   "cell_type": "code",
   "execution_count": null,
   "id": "56b6f580-e991-461f-859c-3d31d61a8f50",
   "metadata": {},
   "outputs": [],
   "source": [
    "currents = calculate_spinFlux(Ivec, rho, sites, [1:L;])\n",
    "println(\"Analytical value of the current: \", -fluxXXX(L, gamma))\n",
    "println(\"Numerical approximation of the current: \", mean(currents))\n",
    "\n",
    "analyticalMag = magnonDensityXXX(L, gamma)\n",
    "magDensity = calculate_magnetization(Ivec, rho, sites)\n",
    "\n",
    "# println(\"Analytical Magnetization profile: \", analyticalMag)\n",
    "# println(\"Numerical magProf Approx (real) : \", real.(magDensity))\n",
    "# println(\"Numerical magProf Approx (cmpx) : \", imag.(magDensity))\n",
    "\n",
    "plot([1:L;], real.(analyticalMag), linewidth=3, label = \"Analytical magnetization\")\n",
    "\n",
    "# Using the imaginary part of the magnon density as  uncertainty (clearly an overestimatation)\n",
    "plot!([1:L;], real.(magDensity),yerr=imag.(magDensity), linestyle=:dash, linewidth=3, title = \"Magnetization Profile: XXX system\", label = \"oDMRGjl approximation\")\n",
    "\n",
    "\n"
   ]
  },
  {
   "cell_type": "code",
   "execution_count": null,
   "id": "50fb0923-0ad8-4e2c-89c9-e64a5a0c9cb0",
   "metadata": {},
   "outputs": [],
   "source": []
  }
 ],
 "metadata": {
  "kernelspec": {
   "display_name": "Julia 1.11.4",
   "language": "julia",
   "name": "julia-1.11"
  },
  "language_info": {
   "file_extension": ".jl",
   "mimetype": "application/julia",
   "name": "julia",
   "version": "1.11.4"
  }
 },
 "nbformat": 4,
 "nbformat_minor": 5
}
